{
  "nbformat": 4,
  "nbformat_minor": 0,
  "metadata": {
    "kernelspec": {
      "name": "python3",
      "display_name": "Python 3"
    },
    "language_info": {
      "codemirror_mode": {
        "name": "ipython",
        "version": 3
      },
      "file_extension": ".py",
      "mimetype": "text/x-python",
      "name": "python",
      "nbconvert_exporter": "python",
      "pygments_lexer": "ipython3",
      "version": "3.5.6"
    },
    "colab": {
      "name": "Trainer.ipynb",
      "provenance": []
    },
    "accelerator": "GPU"
  },
  "cells": [
    {
      "cell_type": "code",
      "metadata": {
        "id": "CWEWOFA68xyU",
        "colab_type": "code",
        "outputId": "f76519e7-41b6-4616-86cf-b7dd82283737",
        "colab": {
          "base_uri": "https://localhost:8080/",
          "height": 68
        }
      },
      "source": [
        "%tensorflow_version 2.x\n",
        "\n",
        "import tensorflow as tf\n",
        "print(\"tf version {0} executing eagerly is {1}\".format(tf.__version__, tf.executing_eagerly()))\n",
        "\n",
        "import tensorflow_probability as tfp\n",
        "print(\"tfp version {0}\".format(tfp.__version__))"
      ],
      "execution_count": 1,
      "outputs": [
        {
          "output_type": "stream",
          "text": [
            "TensorFlow 2.x selected.\n",
            "tf version 2.1.0 executing eagerly is True\n",
            "tfp version 0.9.0\n"
          ],
          "name": "stdout"
        }
      ]
    },
    {
      "cell_type": "code",
      "metadata": {
        "id": "-P59ok20-3v4",
        "colab_type": "code",
        "outputId": "6c84c759-f0da-4a10-ee9e-152cd840c132",
        "colab": {
          "base_uri": "https://localhost:8080/",
          "height": 34
        }
      },
      "source": [
        "from google.colab import drive\n",
        "drive.mount('/content/drive')\n",
        "BASE_DIR = '/content/drive/My Drive/StoicNetData/'"
      ],
      "execution_count": 2,
      "outputs": [
        {
          "output_type": "stream",
          "text": [
            "Drive already mounted at /content/drive; to attempt to forcibly remount, call drive.mount(\"/content/drive\", force_remount=True).\n"
          ],
          "name": "stdout"
        }
      ]
    },
    {
      "cell_type": "code",
      "metadata": {
        "id": "GNWxIsIK9KvO",
        "colab_type": "code",
        "outputId": "6925e225-85a9-4ea2-d176-3f99452d600a",
        "colab": {
          "base_uri": "https://localhost:8080/",
          "height": 68
        }
      },
      "source": [
        "device_name = tf.test.gpu_device_name()\n",
        "print(\"Device name: \\\"{0}\\\"\".format(device_name))\n",
        "if device_name != '/device:GPU:0':\n",
        "  raise SystemError('GPU device not found')\n",
        "print('Found GPU at: {}'.format(device_name))\n",
        "\n",
        "gpus = tf.config.experimental.list_physical_devices('GPU')\n",
        "if gpus:\n",
        "  try:\n",
        "    # Currently, memory growth needs to be the same across GPUs\n",
        "    for gpu in gpus:\n",
        "      tf.config.experimental.set_memory_growth(gpu, True)\n",
        "    logical_gpus = tf.config.experimental.list_logical_devices('GPU')\n",
        "    print(len(gpus), \"Physical GPUs,\", len(logical_gpus), \"Logical GPUs\")\n",
        "  except RuntimeError as e:\n",
        "    # Memory growth must be set before GPUs have been initialized\n",
        "    print(e)"
      ],
      "execution_count": 3,
      "outputs": [
        {
          "output_type": "stream",
          "text": [
            "Device name: \"/device:GPU:0\"\n",
            "Found GPU at: /device:GPU:0\n",
            "1 Physical GPUs, 1 Logical GPUs\n"
          ],
          "name": "stdout"
        }
      ]
    },
    {
      "cell_type": "code",
      "metadata": {
        "id": "77kfnaVwt8Vs",
        "colab_type": "code",
        "colab": {}
      },
      "source": [
        "from __future__ import absolute_import, division, print_function, unicode_literals\n",
        "\n",
        "import cv2\n",
        "import sys\n",
        "import os\n",
        "import time\n",
        "import numpy as np\n",
        "import glob\n",
        "import PIL\n",
        "import imageio\n",
        "import matplotlib.pyplot as plt"
      ],
      "execution_count": 0,
      "outputs": []
    },
    {
      "cell_type": "code",
      "metadata": {
        "id": "dJn75hpVt8Vw",
        "colab_type": "code",
        "colab": {}
      },
      "source": [
        "from IPython import display\n",
        "\n",
        "import warnings\n",
        "warnings.simplefilter('error', UserWarning)\n",
        "warnings.filterwarnings(\"error\")"
      ],
      "execution_count": 0,
      "outputs": []
    },
    {
      "cell_type": "code",
      "metadata": {
        "id": "LFeV4R0mCQtd",
        "colab_type": "code",
        "colab": {}
      },
      "source": [
        "tf.random.set_seed(98475651423)"
      ],
      "execution_count": 0,
      "outputs": []
    },
    {
      "cell_type": "code",
      "metadata": {
        "id": "-FbVWr08t8Vz",
        "colab_type": "code",
        "colab": {}
      },
      "source": [
        "IMG_HEIGHT = 112\n",
        "IMG_WIDTH = 112\n",
        "\n",
        "keys_to_features = {\n",
        "    'image_neutral': tf.io.FixedLenFeature([], tf.string),\n",
        "    'image_expressive': tf.io.FixedLenFeature([], tf.string)\n",
        "}\n",
        "\n",
        "def parser(record):\n",
        "    parsed = tf.io.parse_single_example(record, keys_to_features)\n",
        "    \n",
        "    imageNeutral = tf.io.decode_raw(parsed[\"image_neutral\"], tf.uint8)\n",
        "    imageExpressive = tf.io.decode_raw(parsed[\"image_expressive\"], tf.uint8)\n",
        "    \n",
        "    imageNeutral = tf.cast(imageNeutral, tf.float32)\n",
        "    imageExpressive = tf.cast(imageExpressive, tf.float32)\n",
        "    \n",
        "    imageNeutral = tf.reshape(imageNeutral, shape=[224,224,1])\n",
        "    imageExpressive = tf.reshape(imageExpressive, shape=[224,224,1])\n",
        "\n",
        "    imageNeutral = tf.image.resize(imageNeutral, size=[IMG_HEIGHT,IMG_WIDTH])\n",
        "    imageExpressive = tf.image.resize(imageExpressive, size=[IMG_HEIGHT,IMG_WIDTH])\n",
        "\n",
        "    imageNeutral /= (255/2)\n",
        "    imageExpressive /= (255/2)\n",
        "    imageNeutral -= 1\n",
        "    imageExpressive -= 1\n",
        "\n",
        "    return {\"imageNeutral\":imageNeutral, \"imageExpressive\":imageExpressive}"
      ],
      "execution_count": 0,
      "outputs": []
    },
    {
      "cell_type": "code",
      "metadata": {
        "id": "LtPS7faMt8V2",
        "colab_type": "code",
        "outputId": "5774b5a7-ea9d-49f7-c685-5d74e89de001",
        "colab": {
          "base_uri": "https://localhost:8080/",
          "height": 34
        }
      },
      "source": [
        "BUFFER_SIZE = 20000\n",
        "BATCH_SIZE = 32\n",
        "\n",
        "DB_PATH = BASE_DIR\n",
        "raw_train = tf.data.TFRecordDataset(DB_PATH + \"train.tfrecords\")\n",
        "raw_val = tf.data.TFRecordDataset(DB_PATH + \"val.tfrecords\")\n",
        "raw_test = tf.data.TFRecordDataset(DB_PATH + \"test.tfrecords\")\n",
        "\n",
        "parsed_train = raw_train.map(parser).shuffle(BUFFER_SIZE).batch(BATCH_SIZE)\n",
        "parsed_val = raw_val.map(parser).shuffle(BUFFER_SIZE).batch(BATCH_SIZE)\n",
        "parsed_test = raw_test.map(parser).shuffle(BUFFER_SIZE).batch(BATCH_SIZE)\n",
        "print(parsed_train)"
      ],
      "execution_count": 8,
      "outputs": [
        {
          "output_type": "stream",
          "text": [
            "<BatchDataset shapes: {imageNeutral: (None, 112, 112, 1), imageExpressive: (None, 112, 112, 1)}, types: {imageNeutral: tf.float32, imageExpressive: tf.float32}>\n"
          ],
          "name": "stdout"
        }
      ]
    },
    {
      "cell_type": "code",
      "metadata": {
        "id": "3dJEONQyPuwv",
        "colab_type": "code",
        "outputId": "5c7cb794-7279-4e13-a089-0a95d79263ba",
        "colab": {
          "base_uri": "https://localhost:8080/",
          "height": 268
        }
      },
      "source": [
        "# Get this round's inspirational photo...\n",
        "for image_features in parsed_train.take(1):\n",
        "    image_raw = image_features['imageExpressive'].numpy()\n",
        "    plt.imshow(np.squeeze(image_raw[0,:,:,:]+np.random.normal(0.0, 0.5, [112,112,1])), cmap='gray', vmin=-1, vmax=1)\n",
        "    plt.show()"
      ],
      "execution_count": 9,
      "outputs": [
        {
          "output_type": "display_data",
          "data": {
            "image/png": "[encoded data removed]",
            "text/plain": [
              "<Figure size 432x288 with 1 Axes>"
            ]
          },
          "metadata": {
            "tags": []
          }
        }
      ]
    },
    {
      "cell_type": "code",
      "metadata": {
        "id": "ln0zmVknt8V6",
        "colab_type": "code",
        "colab": {}
      },
      "source": [
        "class VAE(tf.keras.Model):\n",
        "    def __init__(self, latent_dim):\n",
        "        super(VAE, self).__init__()\n",
        "        self.latent_dim = latent_dim\n",
        "        self.encoder = tf.keras.models.Sequential(layers=[\n",
        "            tf.keras.layers.InputLayer(input_shape=(IMG_HEIGHT, IMG_WIDTH, 1)),\n",
        "\n",
        "            tf.keras.layers.Conv2D(filters=32, kernel_size=3, strides=(2,2)),\n",
        "            tf.keras.layers.BatchNormalization(),\n",
        "            tf.keras.layers.ReLU(),\n",
        "\n",
        "            tf.keras.layers.Conv2D(filters=64, kernel_size=3, strides=(2,2)),\n",
        "            tf.keras.layers.BatchNormalization(),\n",
        "            tf.keras.layers.ReLU(),\n",
        "\n",
        "            tf.keras.layers.Conv2D(filters=128, kernel_size=3, strides=(2,2)),\n",
        "            tf.keras.layers.BatchNormalization(),\n",
        "            tf.keras.layers.ReLU(),\n",
        "\n",
        "            tf.keras.layers.Conv2D(filters=256, kernel_size=3, strides=(2,2)),\n",
        "            tf.keras.layers.BatchNormalization(),\n",
        "            tf.keras.layers.ReLU(),\n",
        "\n",
        "            tf.keras.layers.Flatten(),\n",
        "            tf.keras.layers.Dense(latent_dim + latent_dim), # no activation...\n",
        "        ], name=\"encoder\")\n",
        "        \n",
        "        self.generator = tf.keras.models.Sequential(layers=[\n",
        "            tf.keras.layers.InputLayer(input_shape=(latent_dim)),\n",
        "\n",
        "            tf.keras.layers.Dense(units=7*7*256),\n",
        "            tf.keras.layers.Reshape(target_shape=(7, 7, 256)),\n",
        "            tf.keras.layers.BatchNormalization(),\n",
        "            tf.keras.layers.ReLU(),\n",
        "\n",
        "            tf.keras.layers.Conv2DTranspose(\n",
        "                filters=128, kernel_size=4, strides=(2, 2), padding=\"SAME\", use_bias=False),\n",
        "            tf.keras.layers.BatchNormalization(),\n",
        "            tf.keras.layers.ReLU(),\n",
        "\n",
        "            tf.keras.layers.Conv2DTranspose(\n",
        "                filters=64, kernel_size=4, strides=(2, 2), padding=\"SAME\", use_bias=False),\n",
        "            tf.keras.layers.BatchNormalization(),\n",
        "            tf.keras.layers.ReLU(),\n",
        "\n",
        "            tf.keras.layers.Conv2DTranspose(\n",
        "                filters=32, kernel_size=4, strides=(2, 2), padding=\"SAME\", use_bias=False),\n",
        "            tf.keras.layers.BatchNormalization(),\n",
        "            tf.keras.layers.ReLU(),\n",
        "\n",
        "            tf.keras.layers.Conv2DTranspose(\n",
        "                filters=16, kernel_size=4, strides=(2, 2), padding=\"SAME\", use_bias=False),\n",
        "            tf.keras.layers.BatchNormalization(),\n",
        "            tf.keras.layers.ReLU(),\n",
        "\n",
        "            tf.keras.layers.Conv2DTranspose(\n",
        "                filters=1, kernel_size=3, strides=(1, 1), padding=\"SAME\", use_bias=False,\n",
        "                activation=\"tanh\"),\n",
        "        ], name=\"generator\")\n",
        "\n",
        "    \n",
        "    @tf.function\n",
        "    def sample(self, epsilon=None):\n",
        "        if epsilon is None:\n",
        "            epsilon = tf.random.normal(shape=(100, self.latent_dim))\n",
        "        return self.decode(epsilon, apply_sigmoid=True)\n",
        "    \n",
        "    @tf.function\n",
        "    def encode(self, x):\n",
        "        mean, logvar = tf.split(self.encoder(x), num_or_size_splits=2, axis=1)\n",
        "        return mean, logvar\n",
        "\n",
        "    def reparameterize(self, mean, logvar):\n",
        "        # Logvar used for numerical stability\n",
        "        epsilon = tf.random.normal(shape=mean.shape)\n",
        "        return epsilon * tf.exp(logvar * .5) + mean\n",
        "\n",
        "    @tf.function\n",
        "    def decode(self, z, apply_sigmoid=False):\n",
        "        logits = self.generator(z)\n",
        "        if apply_sigmoid:\n",
        "            probs = tf.sigmoid(logits)\n",
        "            return probs\n",
        "        return logits\n",
        "    \n",
        "    @tf.function\n",
        "    def generateImg(self, x):\n",
        "        mean, logvar = self.encode(x)\n",
        "        return self.generateDist(mean, logvar)\n",
        "    \n",
        "    @tf.function\n",
        "    def generateDist(self, mean, logvar):\n",
        "        z = self.reparameterize(mean, logvar)\n",
        "        return self.generateZ(z)\n",
        "\n",
        "    @tf.function\n",
        "    def generateZ(self, z):\n",
        "        x_logit = self.decode(z)\n",
        "        return x_logit\n"
      ],
      "execution_count": 0,
      "outputs": []
    },
    {
      "cell_type": "code",
      "metadata": {
        "id": "tqv0Zi6T8lgS",
        "colab_type": "code",
        "colab": {}
      },
      "source": [
        "class Discriminator(tf.keras.Model):\n",
        "    def __init__(self):\n",
        "        super(Discriminator, self).__init__()\n",
        "        self.discriminator = tf.keras.models.Sequential(layers=[\n",
        "            tf.keras.layers.InputLayer(input_shape=(IMG_HEIGHT, IMG_WIDTH, 1)),\n",
        "\n",
        "            tf.keras.layers.Conv2D(filters=32, kernel_size=3, strides=(2,2)),\n",
        "            tf.keras.layers.BatchNormalization(),\n",
        "            tf.keras.layers.LeakyReLU(),\n",
        "\n",
        "            tf.keras.layers.Conv2D(filters=64, kernel_size=3, strides=(2,2)),\n",
        "            tf.keras.layers.BatchNormalization(),\n",
        "            tf.keras.layers.LeakyReLU(),\n",
        "\n",
        "            tf.keras.layers.Conv2D(filters=128, kernel_size=3, strides=(2,2)),\n",
        "            tf.keras.layers.BatchNormalization(),\n",
        "            tf.keras.layers.LeakyReLU(),\n",
        "\n",
        "            tf.keras.layers.Conv2D(filters=256, kernel_size=3, strides=(2,2)),\n",
        "            tf.keras.layers.BatchNormalization(),\n",
        "            tf.keras.layers.LeakyReLU(),\n",
        "\n",
        "            tf.keras.layers.Flatten(),\n",
        "            tf.keras.layers.Dense(512),\n",
        "            tf.keras.layers.LeakyReLU(),\n",
        "\n",
        "            tf.keras.layers.Dense(1, activation='sigmoid'),\n",
        "        ], name=\"discriminator\")\n",
        "    \n",
        "    @tf.function\n",
        "    def decide(self, x):\n",
        "        return self.discriminator(x)\n"
      ],
      "execution_count": 0,
      "outputs": []
    },
    {
      "cell_type": "code",
      "metadata": {
        "id": "i_UU3x3Vt8V9",
        "colab_type": "code",
        "colab": {}
      },
      "source": [
        "generator_optimizer = tf.keras.optimizers.Adam(learning_rate=0.0001, beta_1=0.5)\n",
        "discriminator_optimizer = tf.keras.optimizers.Adam( learning_rate=0.0001, beta_1=0.5)\n",
        "\n",
        "latent_dim = 100\n",
        "prior = tfp.distributions.MultivariateNormalDiag(tf.zeros(latent_dim), tf.ones(latent_dim))\n",
        "\n",
        "\n",
        "@tf.function\n",
        "def compute_apply_gradients(gen, dis, x_neutral, x_express, genOptimizer, disOptimizer, beta):\n",
        "    # Watch any trainable variables for automatic differentiation\n",
        "    with tf.GradientTape(persistent=True) as tape:\n",
        "        gen_loss, dis_loss = compute_loss(gen, dis, x_neutral, x_express, beta)\n",
        "\n",
        "    gradients_of_generator = tape.gradient(gen_loss, gen.trainable_variables)\n",
        "    gradients_of_discriminator = tape.gradient(dis_loss, dis.trainable_variables)\n",
        "\n",
        "    genOptimizer.apply_gradients(zip(gradients_of_generator, gen.trainable_variables))\n",
        "    disOptimizer.apply_gradients(zip(gradients_of_discriminator, dis.trainable_variables))\n",
        "    \n",
        "\n",
        "@tf.function\n",
        "def compute_loss(gen, dis, x_neutral, x_express, beta):\n",
        "    mean, logvar = gen.encode(x_express)\n",
        "    if beta < 0.5:\n",
        "        # Just be an auto-encoder to warm up\n",
        "        generated_images = gen.generateZ(mean)\n",
        "    else:\n",
        "        # Now let's get variational up in here\n",
        "        generated_images = gen.generateDist(mean, logvar)\n",
        "        \n",
        "    real_output = dis.decide(x_neutral)\n",
        "    fake_output = dis.decide(generated_images)\n",
        "\n",
        "    dis_loss = discriminator_loss(real_output, fake_output)\n",
        "    \n",
        "    # loss from fooling the discriminator (or not)\n",
        "    gen_loss = generator_loss(fake_output)\n",
        "    # KL Divergence loss\n",
        "    posterior = tfp.distributions.MultivariateNormalDiag(mean, logvar)\n",
        "    divergence = tfp.distributions.kl_divergence(posterior, prior)\n",
        "    gen_loss = gen_loss + (beta * divergence)\n",
        "\n",
        "    return gen_loss, dis_loss\n",
        "\n",
        "\n",
        "@tf.function\n",
        "def discriminator_loss(real_output, fake_output):\n",
        "    cross_entropy = tf.keras.losses.BinaryCrossentropy(from_logits=False)\n",
        "    \n",
        "    real_labels = tf.ones_like(real_output)# - tf.random.uniform(real_output.shape, minval=0, maxval=0.2)\n",
        "    real_loss = cross_entropy(real_labels, real_output)\n",
        "    \n",
        "    fake_labels = tf.zeros_like(fake_output)# + tf.random.uniform(fake_output.shape, minval=0, maxval=0.2)\n",
        "    fake_loss = cross_entropy(fake_labels, fake_output)\n",
        "    \n",
        "    total_loss = real_loss + fake_loss\n",
        "    return total_loss\n",
        "\n",
        "\n",
        "@tf.function\n",
        "def generator_loss(fake_output):\n",
        "    cross_entropy = tf.keras.losses.BinaryCrossentropy(from_logits=False)\n",
        "    return cross_entropy(tf.ones_like(fake_output), fake_output)"
      ],
      "execution_count": 0,
      "outputs": []
    },
    {
      "cell_type": "code",
      "metadata": {
        "scrolled": true,
        "id": "3qJfbC8pt8WA",
        "colab_type": "code",
        "colab": {}
      },
      "source": [
        "epochs = 200\n",
        "num_examples_to_generate = 16\n",
        "\n",
        "# keeping the random vector constant for generation (prediction)\n",
        "# so it will be easier to see the improvement.\n",
        "random_vector_for_generation = tf.random.normal(\n",
        "    shape=[num_examples_to_generate, latent_dim])\n",
        "\n",
        "random_images_for_generation = [image_features['imageExpressive'] for image_features in parsed_test.take(1)][0][0:num_examples_to_generate]\n",
        "\n",
        "generator = VAE(100)\n",
        "discriminator = Discriminator()"
      ],
      "execution_count": 0,
      "outputs": []
    },
    {
      "cell_type": "code",
      "metadata": {
        "id": "ag2zm_9h5w01",
        "colab_type": "code",
        "colab": {}
      },
      "source": [
        "# setup checkpoint stuff\n",
        "checkpoint_dir = BASE_DIR + 'training_checkpoints'\n",
        "checkpoint_prefix = os.path.join(checkpoint_dir, \"ckpt\")\n",
        "checkpoint = tf.train.Checkpoint(generator_optimizer=generator_optimizer,\n",
        "                                 discriminator_optimizer=discriminator_optimizer,\n",
        "                                 generator=generator,\n",
        "                                 discriminator=discriminator)"
      ],
      "execution_count": 0,
      "outputs": []
    },
    {
      "cell_type": "code",
      "metadata": {
        "id": "YCD9--NTt8WD",
        "colab_type": "code",
        "colab": {}
      },
      "source": [
        "def save_images(gen, dis, epoch, test_input):\n",
        "    imgs = gen.sample(test_input)\n",
        "    assert not np.any(np.isnan(imgs))\n",
        "    fig = plt.figure(figsize=(4,4))\n",
        "    ds = dis.decide(imgs)\n",
        "    for i in range(imgs.shape[0]):\n",
        "        plt.subplot(4, 4, i+1)\n",
        "        plt.gca().set_title(\"{0:.4f}\".format(ds[i,0]))\n",
        "        plt.imshow(imgs[i, :, :, 0], cmap='gray')\n",
        "        plt.axis('off')\n",
        "    fig.tight_layout()\n",
        "    plt.savefig('image_at_epoch_{:04d}.png'.format(epoch))\n",
        "    plt.close(fig)\n",
        "\n",
        "def display_discrim_images(imgs, dis):\n",
        "    fig = plt.figure(figsize=(4,4))\n",
        "    ds = dis.decide(imgs)\n",
        "    for i in range(imgs.shape[0]):\n",
        "        plt.subplot(4, 4, i+1)\n",
        "        plt.gca().set_title(\"{0:.4f}\".format(ds[i,0]))\n",
        "        plt.imshow(imgs[i, :, :, 0], cmap='gray')\n",
        "        plt.axis('off')\n",
        "    fig.tight_layout()\n",
        "    plt.show()\n",
        "\n",
        "def display_imgs_ratings(test_input, data, dis, noise_intensity, epoch=-1):\n",
        "    images = generator.generateImg(test_input[0:8])\n",
        "    noise = np.random.normal(0, 1, images.shape).astype('float32')\n",
        "    for features in data:\n",
        "        expressive = features['imageExpressive']\n",
        "        neutral = features['imageNeutral'] + np.random.normal(0, noise_intensity, expressive.shape)\n",
        "    ims = np.concatenate((test_input[0:8], images, neutral[0:8], expressive[0:8]), axis=0)\n",
        "    fig, axes = plt.subplots(nrows=4, ncols=8, figsize=(9,5))\n",
        "    ds = dis.decide(ims)\n",
        "    for i in range(ims.shape[0]):\n",
        "        r = i % 8\n",
        "        c = i // 8\n",
        "        axes[c, r].set_title(\"{0:.6f}\".format(ds[i,0]))\n",
        "        axes[c, r].imshow(ims[i, :, :, 0], cmap='gray')\n",
        "        axes[c, r].set_yticklabels([])\n",
        "        axes[c, r].xaxis.set_visible(False)\n",
        "    axes[0,0].set_ylabel(\"Inputs\", size='large')\n",
        "    axes[1,0].set_ylabel(\"Generated\", size='large')\n",
        "    axes[2,0].set_ylabel(\"Neutral*\", size='large')\n",
        "    axes[3,0].set_ylabel(\"Expressive\", size='large')\n",
        "    fig.tight_layout()\n",
        "    if epoch >= 0:\n",
        "        plt.savefig('gens_ratings_at_epoch_{:04d}.png'.format(epoch))\n",
        "        plt.close(fig)\n",
        "    else:\n",
        "        plt.show()\n",
        "\n",
        "def plot_ELBOs(es):\n",
        "    fig = plt.figure()\n",
        "    plt.plot(es)\n",
        "    plt.ylabel('ELBO')\n",
        "    plt.xlabel('Epoch')\n",
        "    plt.show()\n",
        "\n",
        "def plot_GAN_loss(ls):\n",
        "    gl, dl = zip(*ls)\n",
        "    fig = plt.figure()\n",
        "    plt.plot(gl, 'g', label='Lg')\n",
        "    plt.plot(dl, 'r', label='Ld')\n",
        "    plt.title(\"Generator (Lg) & Discriminator (Ld) Loss\")\n",
        "    plt.legend()\n",
        "    plt.tight_layout()\n",
        "    plt.show()"
      ],
      "execution_count": 0,
      "outputs": []
    },
    {
      "cell_type": "code",
      "metadata": {
        "scrolled": false,
        "id": "jqNw-Wqht8WG",
        "colab_type": "code",
        "colab": {}
      },
      "source": [
        "# Save image for pre-training\n",
        "noise_intensity = max_noise_intensity = 0#0.5\n",
        "max_beta = 1\n",
        "beta = 0\n",
        "ramp_end = 10\n",
        "\n",
        "# Test\n",
        "gloss = tf.keras.metrics.Mean()\n",
        "dloss = tf.keras.metrics.Mean()\n",
        "for image_features in parsed_test:\n",
        "    gl, dl = compute_loss(generator, discriminator, image_features['imageNeutral'],\n",
        "                          image_features['imageExpressive'], 0)\n",
        "    gloss(gl)\n",
        "    dloss(dl)\n",
        "gl = gloss.result()\n",
        "dl = dloss.result()\n",
        "ls = [(gl, dl)]\n",
        "\n",
        "start_time = end_time = 0\n",
        "for epoch in range(1, epochs+1):\n",
        "    print('Epoch {0}, Test set gloss {1}, dloss {2}, '\n",
        "        'time elapsed for current epoch {3:.1f}'.format(\n",
        "            epoch, gl, dl, end_time - start_time))\n",
        "    print(\"Noise intensity: {0}\\t\\tBeta: {1}\".format(noise_intensity, beta))\n",
        "    display_imgs_ratings(random_images_for_generation, parsed_test.take(1),\n",
        "                     discriminator, noise_intensity)    \n",
        "    save_images(generator, discriminator, epoch, random_vector_for_generation)\n",
        "    \n",
        "    # Train\n",
        "    start_time = time.time()\n",
        "    batchCounter = 0\n",
        "    noise_intensity = max(0, max_noise_intensity * (1 - (epoch / ramp_end)))\n",
        "    beta = min(max_beta, max_beta * (epoch / ramp_end))\n",
        "    beta = tf.convert_to_tensor(beta, dtype=tf.float32)\n",
        "    for image_features in parsed_train:\n",
        "        neutral_raw = image_features['imageNeutral']\n",
        "        neutral_raw = neutral_raw + np.random.normal(0, noise_intensity, neutral_raw.shape)\n",
        "        assert not np.any(np.isnan(neutral_raw))\n",
        "        expressive_raw = image_features['imageExpressive']\n",
        "        assert not np.any(np.isnan(expressive_raw))\n",
        "\n",
        "        compute_apply_gradients(generator, discriminator,\n",
        "                                neutral_raw, expressive_raw,\n",
        "                                generator_optimizer, discriminator_optimizer,\n",
        "                                beta)\n",
        "\n",
        "        batchCounter += 1\n",
        "        if batchCounter % 10 == 0:\n",
        "            print(\".\", end=\"\")\n",
        "    end_time = time.time()\n",
        "    \n",
        "    # Test\n",
        "    gloss = tf.keras.metrics.Mean()\n",
        "    dloss = tf.keras.metrics.Mean()\n",
        "    for image_features in parsed_test:\n",
        "        neutral_raw = image_features['imageNeutral']\n",
        "        expressive_raw = image_features['imageExpressive']\n",
        "\n",
        "        gl, dl = compute_loss(generator, discriminator,\n",
        "                              neutral_raw, expressive_raw,\n",
        "                              beta)\n",
        "        gloss(gl)\n",
        "        dloss(dl)\n",
        "    gl = gloss.result()\n",
        "    dl = dloss.result()\n",
        "    ls = ls + [(gl, dl)]\n",
        "    \n",
        "    display.clear_output(wait=False)\n",
        "\n",
        "    # Save the model from time to time\n",
        "    if (epoch + 1) % 20 == 0:\n",
        "        display_imgs_ratings(random_images_for_generation, parsed_test.take(1),\n",
        "                             discriminator, noise_intensity, epoch)\n",
        "        checkpoint.save(file_prefix = checkpoint_prefix)\n",
        "\n",
        "    tf.keras.backend.clear_session()"
      ],
      "execution_count": 0,
      "outputs": []
    },
    {
      "cell_type": "code",
      "metadata": {
        "id": "0MyW7bvwStaX",
        "colab_type": "code",
        "colab": {
          "base_uri": "https://localhost:8080/",
          "height": 34
        },
        "outputId": "10eff31a-d866-401d-f99a-87b6db0c538c"
      },
      "source": [
        "checkpoint_prefix = os.path.join(checkpoint_dir, \"FINAL_CKPT_\" + time.strftime('%l:%M%b%d'))\n",
        "checkpoint.save(file_prefix = checkpoint_prefix)"
      ],
      "execution_count": 23,
      "outputs": [
        {
          "output_type": "execute_result",
          "data": {
            "text/plain": [
              "'/content/drive/My Drive/StoicNetData/training_checkpoints/FINAL_CKPT_12:10Mar07-12'"
            ]
          },
          "metadata": {
            "tags": []
          },
          "execution_count": 23
        }
      ]
    },
    {
      "cell_type": "code",
      "metadata": {
        "id": "q1l2PxZpcsQp",
        "colab_type": "code",
        "colab": {
          "base_uri": "https://localhost:8080/",
          "height": 34
        },
        "outputId": "c6e766f8-e08f-41c3-8e01-3b7ce6df6b37"
      },
      "source": [
        "anim_filename = \"/content/drive/My Drive/StoicNetData/TrainingGifs/vaegan\" + time.strftime('%l:%M %b %d') + \".gif\"\n",
        "print(anim_filename)\n",
        "with imageio.get_writer(anim_filename, mode='I') as writer:\n",
        "    filenames = glob.glob('image_at_epoch_*.png')\n",
        "    filenames = sorted(filenames)\n",
        "    last = -1\n",
        "    for i,filename in enumerate(filenames):\n",
        "        frame = 2*(i**0.5)\n",
        "        if round(frame) > round(last):\n",
        "            last = frame\n",
        "        else:\n",
        "            continue\n",
        "        image = imageio.imread(filename)\n",
        "        writer.append_data(image)\n",
        "    image = imageio.imread(filename)\n",
        "    writer.append_data(image)"
      ],
      "execution_count": 20,
      "outputs": [
        {
          "output_type": "stream",
          "text": [
            "/content/drive/My Drive/StoicNetData/TrainingGifs/vaegan12:03 Mar 07.gif\n"
          ],
          "name": "stdout"
        }
      ]
    },
    {
      "cell_type": "code",
      "metadata": {
        "id": "zldkzCEdT1Rq",
        "colab_type": "code",
        "colab": {
          "base_uri": "https://localhost:8080/",
          "height": 297
        },
        "outputId": "769fc9e9-1e6b-4a14-aa0b-f5e88d68ead9"
      },
      "source": [
        "plot_GAN_loss(ls)"
      ],
      "execution_count": 21,
      "outputs": [
        {
          "output_type": "display_data",
          "data": {
            "image/png": "[encoded data removed]",
            "text/plain": [
              "<Figure size 432x288 with 1 Axes>"
            ]
          },
          "metadata": {
            "tags": []
          }
        }
      ]
    }
  ]
}