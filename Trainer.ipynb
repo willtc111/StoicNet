{
 "cells": [
  {
   "cell_type": "code",
   "execution_count": 5,
   "metadata": {},
   "outputs": [],
   "source": [
    "from __future__ import absolute_import, division, print_function, unicode_literals\n",
    "\n",
    "import tensorflow as tf\n",
    "import cv2\n",
    "import sys\n",
    "import os\n",
    "import time\n",
    "import numpy as np\n",
    "import glob\n",
    "import matplotlib.pyplot as plt\n",
    "import PIL\n",
    "import imageio\n"
   ]
  },
  {
   "cell_type": "code",
   "execution_count": 6,
   "metadata": {},
   "outputs": [],
   "source": [
    "from IPython import display"
   ]
  },
  {
   "cell_type": "code",
   "execution_count": null,
   "metadata": {},
   "outputs": [],
   "source": [
    "sess = tf.Session()\n",
    "sess.run(tf.global_variables_initializer())"
   ]
  },
  {
   "cell_type": "code",
   "execution_count": 8,
   "metadata": {},
   "outputs": [],
   "source": [
    "def parser(record):\n",
    "    keys_to_features = {\n",
    "        'image_neutral': tf.FixedLenFeature([], tf.string),\n",
    "        'image_expressive': tf.FixedLenFeature([], tf.string)\n",
    "    }\n",
    "    parsed = tf.parse_single_example(record, keys_to_features)\n",
    "    \n",
    "    imageNeutral = tf.decode_raw(parsed[\"image_neutral\"], tf.uint8)\n",
    "    imageExpressive = tf.decode_raw(parsed[\"image_expressive\"], tf.uint8)\n",
    "    \n",
    "    imageNeutral = tf.cast(imageNeutral, tf.float32)\n",
    "    imageExpressive = tf.cast(imageExpressive, tf.float32)\n",
    "    \n",
    "    imageNeutral = tf.reshape(imageNeutral, shape=[224,224,1])\n",
    "    imageExpressive = tf.reshape(imageExpressive, shape=[224,224,1])\n",
    "    \n",
    "    return imageNeutral, imageExpressive"
   ]
  },
  {
   "cell_type": "code",
   "execution_count": null,
   "metadata": {},
   "outputs": [],
   "source": []
  }
 ],
 "metadata": {
  "kernelspec": {
   "display_name": "Python 3",
   "language": "python",
   "name": "python3"
  },
  "language_info": {
   "codemirror_mode": {
    "name": "ipython",
    "version": 3
   },
   "file_extension": ".py",
   "mimetype": "text/x-python",
   "name": "python",
   "nbconvert_exporter": "python",
   "pygments_lexer": "ipython3",
   "version": "3.5.6"
  }
 },
 "nbformat": 4,
 "nbformat_minor": 4
}
