{
 "cells": [
  {
   "cell_type": "code",
   "execution_count": 15,
   "metadata": {},
   "outputs": [],
   "source": [
    "from random import shuffle\n",
    "import glob\n",
    "import csv\n",
    "import sys\n",
    "import cv2\n",
    "import numpy as np\n",
    "import tensorflow as tf"
   ]
  },
  {
   "cell_type": "code",
   "execution_count": 16,
   "metadata": {},
   "outputs": [],
   "source": [
    "def _bytes_feature(value):\n",
    "    return tf.train.Feature(bytes_list=tf.train.BytesList(value=[value]))"
   ]
  },
  {
   "cell_type": "code",
   "execution_count": 17,
   "metadata": {},
   "outputs": [],
   "source": [
    "def loadImage(addr):\n",
    "    img = cv2.imread(addr)\n",
    "    if not img is None:\n",
    "        # Resize it\n",
    "        img = cv2.resize(img, (224, 224), interpolation=cv2.INTER_CUBIC)\n",
    "        # Convert it to grayscale\n",
    "        img = cv2.cvtColor(img, cv2.COLOR_BGR2GRAY)\n",
    "    return img"
   ]
  },
  {
   "cell_type": "code",
   "execution_count": 25,
   "metadata": {},
   "outputs": [],
   "source": [
    "def createDataRecord(outputAddr, inputAddrs):\n",
    "    writer = tf.io.TFRecordWriter(outputAddr)\n",
    "    \n",
    "    for i in range(len(inputAddrs)):\n",
    "        \n",
    "        if i % 1000 == 0:\n",
    "            print(\"{0} images completed\".format(i))\n",
    "        \n",
    "        imgNeutral = loadImage(inputAddrs[i][0])\n",
    "        imgExpressive = loadImage(inputAddrs[i][1])\n",
    "        \n",
    "        if imgNeutral is None or imgExpressive is None:\n",
    "            continue\n",
    "        \n",
    "        feature = {\n",
    "            'image_neutral': _bytes_feature(imgNeutral.tostring()),\n",
    "            'image_expressive': _bytes_feature(imgExpressive.tostring())\n",
    "        }\n",
    "        \n",
    "        example = tf.train.Example(features=tf.train.Features(feature=feature))\n",
    "        \n",
    "        writer.write(example.SerializeToString())\n",
    "    \n",
    "    writer.close()\n",
    "    sys.stdout.flush()"
   ]
  },
  {
   "cell_type": "code",
   "execution_count": 26,
   "metadata": {},
   "outputs": [],
   "source": [
    "dbBasePath = 'C:\\\\Users\\\\Will\\\\Documents\\\\StoicNetData\\\\'\n",
    "\n",
    "with open(dbBasePath + r'pairs.txt', newline = '') as pairData:\n",
    "    pairReader = csv.reader(pairData, delimiter='\\t')\n",
    "    pairs = [[dbBasePath + p for p in pair] for pair in pairReader]\n",
    "\n",
    "shuffle(pairs)\n",
    "\n",
    "# 60/20/20 train/val/test split\n",
    "trainPairs = pairs[0:int(0.6*len(pairs))]\n",
    "valPairs = pairs[int(0.6*len(pairs)):int(0.8*len(pairs))]\n",
    "testPairs = pairs[int(0.8*len(pairs)):]\n"
   ]
  },
  {
   "cell_type": "code",
   "execution_count": 27,
   "metadata": {},
   "outputs": [
    {
     "name": "stdout",
     "output_type": "stream",
     "text": [
      "0 images completed\n",
      "1000 images completed\n",
      "2000 images completed\n",
      "3000 images completed\n",
      "4000 images completed\n",
      "5000 images completed\n",
      "6000 images completed\n",
      "0 images completed\n",
      "1000 images completed\n",
      "2000 images completed\n",
      "0 images completed\n",
      "1000 images completed\n",
      "2000 images completed\n"
     ]
    }
   ],
   "source": [
    "createDataRecord(dbBasePath + 'train.tfrecords', trainPairs)\n",
    "createDataRecord(dbBasePath + 'val.tfrecords', valPairs)\n",
    "createDataRecord(dbBasePath + 'test.tfrecords', testPairs)"
   ]
  },
  {
   "cell_type": "code",
   "execution_count": null,
   "metadata": {},
   "outputs": [],
   "source": []
  }
 ],
 "metadata": {
  "kernelspec": {
   "display_name": "Python 3",
   "language": "python",
   "name": "python3"
  },
  "language_info": {
   "codemirror_mode": {
    "name": "ipython",
    "version": 3
   },
   "file_extension": ".py",
   "mimetype": "text/x-python",
   "name": "python",
   "nbconvert_exporter": "python",
   "pygments_lexer": "ipython3",
   "version": "3.5.6"
  }
 },
 "nbformat": 4,
 "nbformat_minor": 4
}
